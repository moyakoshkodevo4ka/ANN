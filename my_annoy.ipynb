{
  "nbformat": 4,
  "nbformat_minor": 0,
  "metadata": {
    "colab": {
      "provenance": []
    },
    "kernelspec": {
      "name": "python3",
      "display_name": "Python 3"
    },
    "language_info": {
      "name": "python"
    }
  },
  "cells": [
    {
      "cell_type": "code",
      "execution_count": null,
      "metadata": {
        "id": "JFDPJYsEPZ0i"
      },
      "outputs": [],
      "source": [
        "from __future__ import annotations\n",
        "\n",
        "from itertools import islice\n",
        "from typing import Callable, Dict, Hashable, Literal, Sequence, Tuple\n",
        "\n",
        "import numpy as np\n",
        "from numpy.typing import NDArray"
      ]
    },
    {
      "cell_type": "code",
      "source": [
        "import annoy"
      ],
      "metadata": {
        "id": "ItMEjdN6GJAL",
        "outputId": "08f7b61d-5de2-4cbc-a938-4db4c9df8b81",
        "colab": {
          "base_uri": "https://localhost:8080/",
          "height": 326
        }
      },
      "execution_count": null,
      "outputs": [
        {
          "output_type": "error",
          "ename": "ModuleNotFoundError",
          "evalue": "ignored",
          "traceback": [
            "\u001b[0;31m---------------------------------------------------------------------------\u001b[0m",
            "\u001b[0;31mModuleNotFoundError\u001b[0m                       Traceback (most recent call last)",
            "\u001b[0;32m<ipython-input-1-bb7e478feff8>\u001b[0m in \u001b[0;36m<cell line: 1>\u001b[0;34m()\u001b[0m\n\u001b[0;32m----> 1\u001b[0;31m \u001b[0;32mimport\u001b[0m \u001b[0mannoy\u001b[0m\u001b[0;34m\u001b[0m\u001b[0;34m\u001b[0m\u001b[0m\n\u001b[0m",
            "\u001b[0;31mModuleNotFoundError\u001b[0m: No module named 'annoy'",
            "",
            "\u001b[0;31m---------------------------------------------------------------------------\u001b[0;32m\nNOTE: If your import is failing due to a missing package, you can\nmanually install dependencies using either !pip or !apt.\n\nTo view examples of installing some common dependencies, click the\n\"Open Examples\" button below.\n\u001b[0;31m---------------------------------------------------------------------------\u001b[0m\n"
          ],
          "errorDetails": {
            "actions": [
              {
                "action": "open_url",
                "actionText": "Open Examples",
                "url": "/notebooks/snippets/importing_libraries.ipynb"
              }
            ]
          }
        }
      ]
    },
    {
      "cell_type": "code",
      "source": [
        "from __future__ import annotations\n",
        "\n",
        "from itertools import islice\n",
        "from typing import Callable, Dict, Hashable, Literal, Sequence, Tuple\n",
        "\n",
        "import numpy as np\n",
        "from numpy.typing import NDArray\n",
        "\n",
        "\n",
        "class AnnoyIndex:\n",
        "    def __init__(self, metric):\n",
        "        self.metric = metric\n",
        "\n",
        "    def compute_distances(self, X_train, X_test):\n",
        "        dists = np.zeros(X_train.shape[0])\n",
        "\n",
        "        if self.metric == \"euclidian\":\n",
        "            for i in range(dists.shape[0]):\n",
        "                vec = X_test - X_train[i]\n",
        "                dists[i] = np.linalg.norm(vec, ord=2)\n",
        "\n",
        "        elif self.metric == \"frobenius\":\n",
        "            for i in range(dists.shape[0]):\n",
        "                vec = X_test - X_train[i]\n",
        "                dists[i] = np.linalg.norm(vec, ord=1)\n",
        "\n",
        "        elif self.metric == \"chebyshev\":\n",
        "            for i in range(dists.shape[0]):\n",
        "                vec = X_test - X_train[i]\n",
        "                dists[i] = np.linalg.norm(vec, ord=np.inf)\n",
        "\n",
        "        elif self.metric == \"cosine\":\n",
        "            for i in range(dists.shape[0]):\n",
        "              vec = X_test - X_train[i]\n",
        "              dists[i] = vec/np.linalg.norm(vec)\n",
        "\n",
        "        elif self.metric == \"ip\":              # inner product\n",
        "            for i in range(dists.shape[0]):\n",
        "              dists[i] = np.dot(X_test, X_train.T)\n",
        "\n",
        "        return dists\n",
        "\n",
        "\n",
        "class AnnoyRecommender(AnnoyIndex):\n",
        "\n",
        "    def __init__(\n",
        "        self,\n",
        "        item_vectors: NDArray[np.float32],\n",
        "        user_vectors: NDArray[np.float32],\n",
        "        user_id_user_index_id_mapping: Dict[Hashable, int],\n",
        "        item_id_item_index_id_mapping: Dict[Hashable, int],\n",
        "        item_mappings_remap: Dict[Hashable, int],\n",
        "        top_k: int,\n",
        "        dim: int,\n",
        "        sim_function: Callable[[np.ndarray, np.ndarray], np.ndarray],\n",
        "        metric='euclidian',\n",
        "        n_trees: int = 10,\n",
        "        n_jobs: int = -1,\n",
        "        search_k: int = -1,\n",
        "        n_neighbors: int = 500,\n",
        "    ) -> None:\n",
        "        super().__init__(metric)\n",
        "        self.item_vectors = item_vectors\n",
        "        self.user_vectors = user_vectors\n",
        "        self.uid_uiid_mapping = user_id_user_index_id_mapping # users\n",
        "        self.iid_iiid_mapping = item_id_item_index_id_mapping # items\n",
        "        self.uiid_uid_mapping = {v: k for k, v in user_id_user_index_id_mapping.items()}\n",
        "        self.iiid_iid_mapping = {v: k for k, v in item_id_item_index_id_mapping.items()}\n",
        "        self.top_k = top_k\n",
        "        self.dim = dim\n",
        "        self.sim_function = sim_function\n",
        "        self.metric = metric\n",
        "        self.n_trees = n_trees\n",
        "        self.n_jobs = n_jobs\n",
        "        self.search_k = search_k\n",
        "        self.n_neighbors = n_neighbors\n",
        "        self.item_mappings_remap = item_mappings_remap\n",
        "\n",
        "    def fit(self, X_test, k):\n",
        "\n",
        "        X_test = np.array(self.item_vectors[self.iid_iiid_mapping[X_test]])\n",
        "        X_train = self.user_vectors\n",
        "\n",
        "        dists = self.compute_distances(X_train, X_test)\n",
        "\n",
        "        inds = np.zeros(k, dtype=int)\n",
        "        inds[:] = np.argsort(dists)[:k]  # индексы самых похожих\n",
        "\n",
        "        return inds\n",
        "\n",
        "    def recommend_single_user(self, user_id: Hashable, k: int):\n",
        "        external_items_id = self.fit(user_id, k)\n",
        "        return [self.item_mappings_remap[external_items_id[i]] for i in range(len(external_items_id))]\n",
        "    \n",
        "    def recommend_bruteforce_single_user(self, user_id: Hashable, item_whitelist: Sequence[Hashable]) -> Sequence[Hashable]:\n",
        "        internal_uid, internal_item_whitelist = self._external_inputs_to_internal_item(user_id)\n",
        "        if len(item_whitelist) == 0:\n",
        "            internal_item_whitelist = list(self.iid_iiid_mapping.values())\n",
        "        user_vector = self.user_vectors[internal_uid, :].reshape(1, -1)\n",
        "        closest = self.sim_function(user_vector, self.item_vectors)\n",
        "        closest = np.argsort(-closest).flatten().tolist()\n",
        "        closest = self._get_filtered_top(\n",
        "            candidates=closest, allowed_items=internal_item_whitelist\n",
        "        )\n",
        "        return self._map_internal_to_external_id(closest)\n",
        "\n",
        "    def _external_inputs_to_internal_item(self, user_id: Hashable):\n",
        "\n",
        "        internal_uid = self.iid_iiid_mapping[user_id]\n",
        "        internal_item_whitelist = np.array(self.item_vectors[internal_uid])\n",
        "        return internal_uid, internal_item_whitelist\n",
        "\n",
        "    def _get_similar(\n",
        "        self, user_vector: NDArray[np.float32]\n",
        "    ) -> Sequence[int]:\n",
        "        \"\"\"\n",
        "        Gets nearest neighbors from an Annoy index\n",
        "\n",
        "        Parameters\n",
        "        ----------\n",
        "        user_vector:\n",
        "            Numpy array of user's vector representation of shape (1, n),\n",
        "            where n is the number of dimensions\n",
        "        \n",
        "        Returns\n",
        "        -------\n",
        "        nearest_negihbors\n",
        "            A sequence of sorted similar items to a given user_vector\n",
        "        \"\"\"\n",
        "        nearest_neighbors = self.index.get_nns_by_vector(\n",
        "            user_vector,\n",
        "            self.n_neighbors,\n",
        "            search_k=self.search_k,\n",
        "            include_distances=False,\n",
        "        )\n",
        "        return nearest_neighbors\n",
        "\n",
        "    def _get_filtered_top(\n",
        "        self, candidates: Sequence[int], allowed_items: Sequence[int]\n",
        "    ) -> Sequence[int]:\n",
        "        \"\"\"\n",
        "        Takes candidates, intersects with allowed items and returns top_k similar items\n",
        "\n",
        "        Parameters\n",
        "        ----------\n",
        "        candidates:\n",
        "            A sequence of candidates to recommend\n",
        "        allowed_items:\n",
        "            A sequence of items allowed to recommend\n",
        "        \n",
        "        Returns\n",
        "        -------\n",
        "        A sequence of filtered top_k recommendations\n",
        "        \"\"\"\n",
        "        allowed_items_set = set(allowed_items)\n",
        "        return list(\n",
        "            islice(\n",
        "                (cand for cand in candidates if cand in allowed_items_set), self.top_k\n",
        "            )\n",
        "        )\n",
        "\n",
        "    def _map_internal_to_external_id(\n",
        "        self, seq_to_map: Sequence[int]\n",
        "    ) -> Sequence[Hashable]:\n",
        "        return [self.iiid_iid_mapping[item] for item in seq_to_map]\n"
      ],
      "metadata": {
        "id": "V1jfjbQWPdru"
      },
      "execution_count": null,
      "outputs": []
    },
    {
      "cell_type": "code",
      "source": [
        "item_vectors = np.array(\n",
        "    [\n",
        "        [1, 1, 1],\n",
        "        [2, 2, 2],\n",
        "        [1, 1, 0],\n",
        "        [2, 2, 1],\n",
        "    ]\n",
        ")\n",
        "\n",
        "user_vectors = np.array(\n",
        "    [\n",
        "        [3, 3, 3],\n",
        "        [2, 2, 0],\n",
        "        [2, 1, 2],\n",
        "    ]\n",
        ")\n",
        "\n",
        "user_map = {10: 0, 11: 1, 12: 2}\n",
        "item_map = {100: 0, 101: 1, 102: 2, 103: 3}\n",
        "\n",
        "keys = list(item_map.keys())\n",
        "item_mappings_remap = {item_map[key]: key for key in keys}\n",
        "\n"
      ],
      "metadata": {
        "id": "guQP9S8qPmhH"
      },
      "execution_count": null,
      "outputs": []
    },
    {
      "cell_type": "code",
      "source": [
        "recommender = AnnoyRecommender(\n",
        "    item_vectors=item_vectors,\n",
        "    user_vectors=user_vectors,\n",
        "    user_id_user_index_id_mapping=user_map,\n",
        "    item_id_item_index_id_mapping=item_map,\n",
        "    item_mappings_remap=item_mappings_remap,\n",
        "    top_k=2,\n",
        "    dim=3,\n",
        "    sim_function=np.dot,\n",
        "    metric=\"euclidian\"\n",
        ")"
      ],
      "metadata": {
        "id": "gfhPLKkUPodp"
      },
      "execution_count": null,
      "outputs": []
    },
    {
      "cell_type": "code",
      "source": [
        "recommender.recommend_single_user(user_id=100, k=2)"
      ],
      "metadata": {
        "colab": {
          "base_uri": "https://localhost:8080/"
        },
        "id": "KOtCMBSMP7Do",
        "outputId": "917362a4-5c79-428f-ff55-a4c8bfb0d4bd"
      },
      "execution_count": null,
      "outputs": [
        {
          "output_type": "execute_result",
          "data": {
            "text/plain": [
              "[102, 101]"
            ]
          },
          "metadata": {},
          "execution_count": 24
        }
      ]
    },
    {
      "cell_type": "code",
      "source": [],
      "metadata": {
        "id": "tiy6Q4e8QCVb"
      },
      "execution_count": null,
      "outputs": []
    }
  ]
}
